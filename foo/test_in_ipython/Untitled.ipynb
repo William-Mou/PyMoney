{
 "cells": [
  {
   "cell_type": "code",
   "execution_count": 10,
   "metadata": {},
   "outputs": [
    {
     "name": "stdout",
     "output_type": "stream",
     "text": [
      "How much money do you have?1000\n",
      "Add an expense or income record with description and amount:\n",
      "wqeqw -241\n",
      "Now you have 759 dollars.\n"
     ]
    }
   ],
   "source": [
    "dollar = input(\"How much money do you have?\")\n",
    "add_item = input(\"Add an expense or income record with description and amount:\\n\")\n",
    "item, money = add_item.split()\n",
    "money, dollar = map(int, [money,dollar])\n",
    "dollar += money\n",
    "print(\"Now you have \" + str(dollar) + \" dollars.\")"
   ]
  },
  {
   "cell_type": "code",
   "execution_count": null,
   "metadata": {},
   "outputs": [],
   "source": []
  }
 ],
 "metadata": {
  "kernelspec": {
   "display_name": "Python 3",
   "language": "python",
   "name": "python3"
  },
  "language_info": {
   "codemirror_mode": {
    "name": "ipython",
    "version": 3
   },
   "file_extension": ".py",
   "mimetype": "text/x-python",
   "name": "python",
   "nbconvert_exporter": "python",
   "pygments_lexer": "ipython3",
   "version": "3.7.5rc1"
  }
 },
 "nbformat": 4,
 "nbformat_minor": 4
}
