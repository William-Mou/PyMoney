{
 "cells": [
  {
   "cell_type": "code",
   "execution_count": 168,
   "metadata": {},
   "outputs": [],
   "source": [
    "import pprint\n",
    "def initialize_categories():\n",
    "    return ['expense', ['food', ['meal', 'snack', 'drink'], 'transportation', ['bus', 'railway']], 'income', ['salary', 'bonus']]\n",
    "def view_categories(categories,tab=0):\n",
    "\n",
    "    for thing in categories:\n",
    "        if isinstance(thing, list):\n",
    "            view_categories(thing,tab+2)\n",
    "        else:\n",
    "            tmp = \" \"*tab \n",
    "            print(tmp + \" - \" + thing)\n",
    "            \n",
    "def is_category_valid(category, categories):\n",
    "    for thing in categories:\n",
    "        if isinstance(thing, list):\n",
    "            return is_category_valid(category, thing)\n",
    "        else:\n",
    "            #print(thing,category)\n",
    "            if str(thing) == str(category):\n",
    "                #print(thing,category)\n",
    "                return True\n",
    "    return False\n",
    "\n",
    "def flatten(L):\n",
    "    if type(L) == list:\n",
    "        result = []\n",
    "        for child in L:\n",
    "            result.extend(flatten(child))\n",
    "        return result\n",
    "    else:\n",
    "        return [L]\n",
    "\n",
    "def find_subcategories(category, categories):\n",
    "    if type(categories) == list:\n",
    "        for v in categories:\n",
    "            p = find_subcategories(category, v)\n",
    "            if p == True:\n",
    "                index = categories.index(v)\n",
    "                if index + 1 < len(categories) and \\\n",
    "                        type(categories[index + 1]) == list:\n",
    "                    return flatten(categories[index:index + 2])\n",
    "                else:\n",
    "                    # return only itself if no subcategories\n",
    "                    return [v]\n",
    "            if p != []:\n",
    "                return p\n",
    "    return True if categories == category else []\n",
    "\n",
    "def find(item_list, categories):\n",
    "    category = input(\"Which category do you want to find?\")\n",
    "    find_item = find_subcategories(category, categories)\n",
    "    #print(find_item)\n",
    "    item_list_cat = [i[0] for i in item_list]\n",
    "    #print(item_list_cat)\n",
    "\n",
    "    is_in = lambda item : True if item in find_item else False\n",
    "    ans = list(filter(is_in, item_list_cat))\n",
    "    \n",
    "    sum_dollar = sum([pair[2] for pair in item_list])\n",
    "    row_format = \"{:>15}\" * 4\n",
    "    print(row_format.format(\"\", *row_list))\n",
    "    for index, row in enumerate(item_list[1:], start=1):\n",
    "        #print(ans)\n",
    "        if row[0] in ans:\n",
    "            print(row_format.format(index, *row))\n",
    "\n",
    "    # print(item_list)\n",
    "    print(\"Now you have \" + str(sum_dollar) + \" dollars.\\n\")\n",
    "    "
   ]
  },
  {
   "cell_type": "code",
   "execution_count": 169,
   "metadata": {},
   "outputs": [],
   "source": [
    "a= initialize_categories()"
   ]
  },
  {
   "cell_type": "code",
   "execution_count": 170,
   "metadata": {},
   "outputs": [
    {
     "name": "stdout",
     "output_type": "stream",
     "text": [
      " - expense\n",
      "   - food\n",
      "     - meal\n",
      "     - snack\n",
      "     - drink\n",
      "   - transportation\n",
      "     - bus\n",
      "     - railway\n",
      " - income\n",
      "   - salary\n",
      "   - bonus\n"
     ]
    }
   ],
   "source": [
    "view_categories(a)"
   ]
  },
  {
   "cell_type": "code",
   "execution_count": 171,
   "metadata": {},
   "outputs": [
    {
     "name": "stdout",
     "output_type": "stream",
     "text": [
      "<filter object at 0x11379daf0>\n"
     ]
    }
   ],
   "source": [
    "print(newlist)"
   ]
  },
  {
   "cell_type": "code",
   "execution_count": 172,
   "metadata": {},
   "outputs": [
    {
     "data": {
      "text/plain": [
       "True"
      ]
     },
     "execution_count": 172,
     "metadata": {},
     "output_type": "execute_result"
    }
   ],
   "source": [
    "is_in = lambda item,find_item : True if item in find_item else False\n",
    "is_in('meal',['food', 'meal', 'snack', 'drink'])"
   ]
  },
  {
   "cell_type": "code",
   "execution_count": 173,
   "metadata": {},
   "outputs": [
    {
     "name": "stdout",
     "output_type": "stream",
     "text": [
      "Which category do you want to find?\n",
      "                      Category    Description         Amount\n",
      "Now you have 1120 dollars.\n",
      "\n"
     ]
    }
   ],
   "source": [
    "find([('food', 'Init', 1244), ('food', 'qweqw', -123), ('wqe', 'qwe', 123), ('meal', 'asd', -124)],a)"
   ]
  },
  {
   "cell_type": "code",
   "execution_count": 174,
   "metadata": {},
   "outputs": [
    {
     "name": "stdout",
     "output_type": "stream",
     "text": [
      "Welcome back!\n",
      "What do you want to do (add / view / delete / exit)?\n",
      "Please check your command!\n",
      "What do you want to do (add / view / delete / exit)?\n",
      "Please check your command!\n",
      "What do you want to do (add / view / delete / exit)?view\n",
      "[('Init', 'Init', 1244), ('wqewq', 'qweqw', -123), ('wqe', 'qwe', 123), ('meal', 'asd', -124), ('food', 'qwee', -123)]\n",
      "                      Category    Description         Amount\n",
      "              1          wqewq          qweqw           -123\n",
      "              2            wqe            qwe            123\n",
      "              3           meal            asd           -124\n",
      "              4           food           qwee           -123\n",
      "Now you have 997 dollars.\n",
      "\n",
      "What do you want to do (add / view / delete / exit)?find food\n",
      "Please check your command!\n",
      "What do you want to do (add / view / delete / exit)?find\n",
      "Which category do you want to find?food\n",
      "                      Category    Description         Amount\n",
      "              3           meal            asd           -124\n",
      "              4           food           qwee           -123\n",
      "Now you have 997 dollars.\n",
      "\n"
     ]
    },
    {
     "ename": "KeyboardInterrupt",
     "evalue": "Interrupted by user",
     "output_type": "error",
     "traceback": [
      "\u001b[0;31m---------------------------------------------------------------------------\u001b[0m",
      "\u001b[0;31mKeyboardInterrupt\u001b[0m                         Traceback (most recent call last)",
      "\u001b[0;32m<ipython-input-174-2f0cdc8b0220>\u001b[0m in \u001b[0;36m<module>\u001b[0;34m\u001b[0m\n\u001b[1;32m    140\u001b[0m     \u001b[0;31m# 不斷讀入指令\u001b[0m\u001b[0;34m\u001b[0m\u001b[0;34m\u001b[0m\u001b[0;34m\u001b[0m\u001b[0m\n\u001b[1;32m    141\u001b[0m     \u001b[0;32mwhile\u001b[0m\u001b[0;34m(\u001b[0m\u001b[0;32mTrue\u001b[0m\u001b[0;34m)\u001b[0m\u001b[0;34m:\u001b[0m\u001b[0;34m\u001b[0m\u001b[0;34m\u001b[0m\u001b[0m\n\u001b[0;32m--> 142\u001b[0;31m         \u001b[0mcommand\u001b[0m \u001b[0;34m=\u001b[0m \u001b[0minput\u001b[0m\u001b[0;34m(\u001b[0m\u001b[0;34m\"What do you want to do (add / view / delete / exit)?\"\u001b[0m\u001b[0;34m)\u001b[0m\u001b[0;34m\u001b[0m\u001b[0;34m\u001b[0m\u001b[0m\n\u001b[0m\u001b[1;32m    143\u001b[0m         \u001b[0;32mif\u001b[0m \u001b[0mcommand\u001b[0m \u001b[0;34m==\u001b[0m \u001b[0;34m\"add\"\u001b[0m\u001b[0;34m:\u001b[0m\u001b[0;34m\u001b[0m\u001b[0;34m\u001b[0m\u001b[0m\n\u001b[1;32m    144\u001b[0m             \u001b[0mitem_list\u001b[0m \u001b[0;34m=\u001b[0m \u001b[0madd\u001b[0m\u001b[0;34m(\u001b[0m\u001b[0mitem_list\u001b[0m\u001b[0;34m,\u001b[0m \u001b[0mcategories\u001b[0m\u001b[0;34m)\u001b[0m\u001b[0;34m\u001b[0m\u001b[0;34m\u001b[0m\u001b[0m\n",
      "\u001b[0;32m~/opt/python3.9/lib/python3.9/site-packages/ipykernel/kernelbase.py\u001b[0m in \u001b[0;36mraw_input\u001b[0;34m(self, prompt)\u001b[0m\n\u001b[1;32m    858\u001b[0m                 \u001b[0;34m\"raw_input was called, but this frontend does not support input requests.\"\u001b[0m\u001b[0;34m\u001b[0m\u001b[0;34m\u001b[0m\u001b[0m\n\u001b[1;32m    859\u001b[0m             )\n\u001b[0;32m--> 860\u001b[0;31m         return self._input_request(str(prompt),\n\u001b[0m\u001b[1;32m    861\u001b[0m             \u001b[0mself\u001b[0m\u001b[0;34m.\u001b[0m\u001b[0m_parent_ident\u001b[0m\u001b[0;34m,\u001b[0m\u001b[0;34m\u001b[0m\u001b[0;34m\u001b[0m\u001b[0m\n\u001b[1;32m    862\u001b[0m             \u001b[0mself\u001b[0m\u001b[0;34m.\u001b[0m\u001b[0m_parent_header\u001b[0m\u001b[0;34m,\u001b[0m\u001b[0;34m\u001b[0m\u001b[0;34m\u001b[0m\u001b[0m\n",
      "\u001b[0;32m~/opt/python3.9/lib/python3.9/site-packages/ipykernel/kernelbase.py\u001b[0m in \u001b[0;36m_input_request\u001b[0;34m(self, prompt, ident, parent, password)\u001b[0m\n\u001b[1;32m    902\u001b[0m             \u001b[0;32mexcept\u001b[0m \u001b[0mKeyboardInterrupt\u001b[0m\u001b[0;34m:\u001b[0m\u001b[0;34m\u001b[0m\u001b[0;34m\u001b[0m\u001b[0m\n\u001b[1;32m    903\u001b[0m                 \u001b[0;31m# re-raise KeyboardInterrupt, to truncate traceback\u001b[0m\u001b[0;34m\u001b[0m\u001b[0;34m\u001b[0m\u001b[0;34m\u001b[0m\u001b[0m\n\u001b[0;32m--> 904\u001b[0;31m                 \u001b[0;32mraise\u001b[0m \u001b[0mKeyboardInterrupt\u001b[0m\u001b[0;34m(\u001b[0m\u001b[0;34m\"Interrupted by user\"\u001b[0m\u001b[0;34m)\u001b[0m \u001b[0;32mfrom\u001b[0m \u001b[0;32mNone\u001b[0m\u001b[0;34m\u001b[0m\u001b[0;34m\u001b[0m\u001b[0m\n\u001b[0m\u001b[1;32m    905\u001b[0m             \u001b[0;32mexcept\u001b[0m \u001b[0mException\u001b[0m \u001b[0;32mas\u001b[0m \u001b[0me\u001b[0m\u001b[0;34m:\u001b[0m\u001b[0;34m\u001b[0m\u001b[0;34m\u001b[0m\u001b[0m\n\u001b[1;32m    906\u001b[0m                 \u001b[0mself\u001b[0m\u001b[0;34m.\u001b[0m\u001b[0mlog\u001b[0m\u001b[0;34m.\u001b[0m\u001b[0mwarning\u001b[0m\u001b[0;34m(\u001b[0m\u001b[0;34m\"Invalid Message:\"\u001b[0m\u001b[0;34m,\u001b[0m \u001b[0mexc_info\u001b[0m\u001b[0;34m=\u001b[0m\u001b[0;32mTrue\u001b[0m\u001b[0;34m)\u001b[0m\u001b[0;34m\u001b[0m\u001b[0;34m\u001b[0m\u001b[0m\n",
      "\u001b[0;31mKeyboardInterrupt\u001b[0m: Interrupted by user"
     ]
    }
   ],
   "source": [
    "# -*- coding: utf-8 -*-\n",
    "# PROJECT_LINK : https://github.com/William-Mou/PyMoney\n",
    "\n",
    "import os.path\n",
    "\n",
    "row_list = [\"Category\", \"Description\", \"Amount\"]\n",
    "fname = \"records.txt\"\n",
    "\n",
    "import pprint\n",
    "def initialize_categories():\n",
    "    return ['expense', ['food', ['meal', 'snack', 'drink'], 'transportation', ['bus', 'railway']], 'income', ['salary', 'bonus']]\n",
    "def view_categories(categories,tab=0):\n",
    "\n",
    "    for thing in categories:\n",
    "        if isinstance(thing, list):\n",
    "            view_categories(thing,tab+2)\n",
    "        else:\n",
    "            tmp = \" \"*tab \n",
    "            print(tmp + \" - \" + thing)\n",
    "            \n",
    "def is_category_valid(category, categories):\n",
    "    for thing in categories:\n",
    "        if isinstance(thing, list):\n",
    "            return is_category_valid(category, thing)\n",
    "        else:\n",
    "            #print(thing,category)\n",
    "            if str(thing) == str(category):\n",
    "                #print(thing,category)\n",
    "                return True\n",
    "    return False\n",
    "\n",
    "def flatten(L):\n",
    "    if type(L) == list:\n",
    "        result = []\n",
    "        for child in L:\n",
    "            result.extend(flatten(child))\n",
    "        return result\n",
    "    else:\n",
    "        return [L]\n",
    "\n",
    "def find_subcategories(category, categories):\n",
    "    if type(categories) == list:\n",
    "        for v in categories:\n",
    "            p = find_subcategories(category, v)\n",
    "            if p == True:\n",
    "                index = categories.index(v)\n",
    "                if index + 1 < len(categories) and \\\n",
    "                        type(categories[index + 1]) == list:\n",
    "                    return flatten(categories[index:index + 2])\n",
    "                else:\n",
    "                    # return only itself if no subcategories\n",
    "                    return [v]\n",
    "            if p != []:\n",
    "                return p\n",
    "    return True if categories == category else []\n",
    "\n",
    "def find(item_list, categories):\n",
    "    category = input(\"Which category do you want to find?\")\n",
    "    find_item = find_subcategories(category, categories)\n",
    "    #print(find_item)\n",
    "    item_list_cat = [i[0] for i in item_list]\n",
    "    #print(item_list_cat)\n",
    "\n",
    "    is_in = lambda item : True if item in find_item else False\n",
    "    ans = list(filter(is_in, item_list_cat))\n",
    "    \n",
    "    sum_dollar = sum([pair[2] for pair in item_list])\n",
    "    row_format = \"{:>15}\" * 4\n",
    "    print(row_format.format(\"\", *row_list))\n",
    "    for index, row in enumerate(item_list[1:], start=1):\n",
    "        #print(ans)\n",
    "        if row[0] in ans:\n",
    "            print(row_format.format(index, *row))\n",
    "\n",
    "    # print(item_list)\n",
    "    print(\"Now you have \" + str(sum_dollar) + \" dollars.\\n\")\n",
    "    \n",
    "\n",
    "def initialize():\n",
    "    \"\"\"\n",
    "    初始化\n",
    "    \"\"\"\n",
    "    # 檢查是否低一次執行\n",
    "    if os.path.isfile(fname):\n",
    "        print(\"Welcome back!\")\n",
    "        try:\n",
    "            with open(fname, 'r') as file:\n",
    "                item_list = []\n",
    "                #print(file.readline())\n",
    "                for i in file.readlines():\n",
    "                    tmp = i.split()\n",
    "                    item_list.append((tmp[0],tmp[1],int(tmp[2])))\n",
    "                #print(item_list)\n",
    "            return item_list\n",
    "        # 檢查檔案是否正常\n",
    "        except EOFError:\n",
    "            print(\"File is corrupted!\\nPlease remove the \" + fname + \" file!\")\n",
    "            item_list = []\n",
    "            while(True):\n",
    "                try:\n",
    "                    dollar = int(input(\"How much money do you have? \"))\n",
    "                except ValueError:\n",
    "                    print(\"You should input a number!\")\n",
    "                else:\n",
    "                    item_list.append((\"Init\", \"Init\", dollar))\n",
    "                    print(item_list)\n",
    "                    return item_list\n",
    "    else:\n",
    "        item_list = []\n",
    "        while(True):\n",
    "            try:\n",
    "                dollar = int(input(\"How much money do you have? \"))\n",
    "\n",
    "            except ValueError:\n",
    "                print(\"You should input a number!\")\n",
    "            else:\n",
    "                item_list.append((\"Init\",\"Init\", dollar))\n",
    "                return item_list\n",
    "\n",
    "\n",
    "def add(item_list, categories):\n",
    "    \"\"\"\n",
    "    加入新記帳的項目\n",
    "    \"\"\"\n",
    "    add_item = input(\n",
    "        \"Add an expense or income record with description and amount:\\n\")\n",
    "    #print(add_item)\n",
    "    \n",
    "    try:\n",
    "        cate, item, money  = add_item.split()\n",
    "        pass\n",
    "    except ValueError:\n",
    "        print(\"1You should input a text and a number! ex:dinner -75\")\n",
    "        return item_list\n",
    "    if is_category_valid(cate, categories):\n",
    "        pass\n",
    "    else:\n",
    "        print('The specified category is not in the category list.\\nYou can check the category list by command \"view categories\".\\nFail to add a record.')    \n",
    "    \n",
    "    try:\n",
    "        money = int(money)\n",
    "    except ValueError:\n",
    "        print(\"2You should input a text and a number! ex:dinner -75\")\n",
    "        return item_list\n",
    "    except UnboundLocalError:\n",
    "        print(\"3You should input a text and a number! ex:dinner -75\")\n",
    "        return item_list\n",
    "    try:\n",
    "        item_list.append((cate, item, money))\n",
    "    except UnboundLocalError:\n",
    "        print(\"4You should input a text and a number! ex:dinner -75\")\n",
    "        return item_list\n",
    "\n",
    "    return item_list\n",
    "\n",
    "\n",
    "def view(item_list):\n",
    "    \"\"\"\n",
    "    列印出記帳項目內容\n",
    "    \"\"\"\n",
    "    print(item_list)\n",
    "    sum_dollar = sum([pair[2] for pair in item_list])\n",
    "    row_format = \"{:>15}\" * 4\n",
    "    print(row_format.format(\"\", *row_list))\n",
    "    for index, row in enumerate(item_list[1:], start=1):\n",
    "        print(row_format.format(index, *row))\n",
    "\n",
    "    # print(item_list)\n",
    "    print(\"Now you have \" + str(sum_dollar) + \" dollars.\\n\")\n",
    "\n",
    "\n",
    "def delete(item_list):\n",
    "    \"\"\"\n",
    "    依照 ID 刪除記帳項目內容\n",
    "    \"\"\"\n",
    "    try:\n",
    "        delete_number = int(\n",
    "            input(\"which line doe you want to delete?\"))\n",
    "    except ValueError:\n",
    "        print(\"You should input a number!\")\n",
    "    else:\n",
    "        # 檢查 ID 是不是合法的\n",
    "        if delete_number < len(item_list) or delete_number > 0:\n",
    "            item_list.pop(delete_number)\n",
    "            return item_list\n",
    "        else:\n",
    "            print(\"delete number is not exist\")\n",
    "\n",
    "\n",
    "def save(item_list):\n",
    "    \"\"\"\n",
    "    儲存內容到檔案內\n",
    "    \"\"\"\n",
    "    ouput = []\n",
    "    #print(\"item\" , item_list)\n",
    "    for i in item_list:\n",
    "        ouput.append(str(i[0]) + \" \" + str(i[1]) + \" \" + str(i[2]) + \"\\n\")\n",
    "    #print(ouput)\n",
    "    with open(fname, 'w') as file:\n",
    "        file.writelines(ouput)\n",
    "\n",
    "        #pickle.dump(item_list, file)\n",
    "\n",
    "\n",
    "if __name__ == '__main__':\n",
    "    item_list = initialize()\n",
    "    categories = initialize_categories()\n",
    "    \n",
    "    # 不斷讀入指令\n",
    "    while(True):\n",
    "        command = input(\"What do you want to do (add / view / delete / exit)?\")\n",
    "        if command == \"add\":\n",
    "            item_list = add(item_list, categories)\n",
    "\n",
    "        elif command == \"view\":\n",
    "            view(item_list)\n",
    "\n",
    "        elif command == \"delete\":\n",
    "            item_list = delete(item_list)\n",
    "        \n",
    "        elif command == \"view categories\":\n",
    "            view_categories(categories)\n",
    "            \n",
    "        elif command == \"find\":\n",
    "            find(item_list, categories)\n",
    "            \n",
    "        elif command == \"exit\":\n",
    "            save(item_list)\n",
    "            break\n",
    "        else:\n",
    "            print(\"Please check your command!\")\n"
   ]
  },
  {
   "cell_type": "code",
   "execution_count": 4,
   "metadata": {},
   "outputs": [],
   "source": [
    "a = \"123 123 123\"\n",
    "b,c,d = a.split()"
   ]
  },
  {
   "cell_type": "code",
   "execution_count": 5,
   "metadata": {},
   "outputs": [
    {
     "data": {
      "text/plain": [
       "'123'"
      ]
     },
     "execution_count": 5,
     "metadata": {},
     "output_type": "execute_result"
    }
   ],
   "source": [
    "b"
   ]
  },
  {
   "cell_type": "code",
   "execution_count": 6,
   "metadata": {},
   "outputs": [
    {
     "data": {
      "text/plain": [
       "'123'"
      ]
     },
     "execution_count": 6,
     "metadata": {},
     "output_type": "execute_result"
    }
   ],
   "source": [
    "c"
   ]
  },
  {
   "cell_type": "code",
   "execution_count": 7,
   "metadata": {},
   "outputs": [
    {
     "data": {
      "text/plain": [
       "'123'"
      ]
     },
     "execution_count": 7,
     "metadata": {},
     "output_type": "execute_result"
    }
   ],
   "source": [
    "d"
   ]
  },
  {
   "cell_type": "code",
   "execution_count": null,
   "metadata": {},
   "outputs": [],
   "source": []
  }
 ],
 "metadata": {
  "kernelspec": {
   "display_name": "Python 3",
   "language": "python",
   "name": "python3"
  },
  "language_info": {
   "codemirror_mode": {
    "name": "ipython",
    "version": 3
   },
   "file_extension": ".py",
   "mimetype": "text/x-python",
   "name": "python",
   "nbconvert_exporter": "python",
   "pygments_lexer": "ipython3",
   "version": "3.9.0"
  }
 },
 "nbformat": 4,
 "nbformat_minor": 4
}
